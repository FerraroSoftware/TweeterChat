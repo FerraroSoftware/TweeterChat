{
 "cells": [
  {
   "cell_type": "code",
   "execution_count": 33,
   "metadata": {},
   "outputs": [],
   "source": [
    "import re\n",
    "import requests\n",
    "import unicodedata # normalize the text\n",
    "from bs4 import BeautifulSoup"
   ]
  },
  {
   "cell_type": "code",
   "execution_count": 34,
   "metadata": {},
   "outputs": [],
   "source": [
    "# The text from each page of the document will be disgusting. Lets normalize the text\n",
    "# cant rely on only unicodedata lib to help, there is also windows_1252_characters that cause issues\n",
    "# from stack overflow, we have a way to help normalize the remaining portions of data\n",
    "def restore_windows_1252_characters(restore_string):\n",
    "    # Replace c1 control chars in unicode string s by chars at \n",
    "    # corresponding code points in windows 1252 where possible\n",
    "    def to_windows_1252(match):\n",
    "        try:\n",
    "            return bytes([ord(match.group(0))]).decode('windows-1252')\n",
    "        except UnicodeDecodeError:\n",
    "            # no char at corresponding code point, remove it\n",
    "            return ''\n",
    "    return re.sub(r'[\\u0080-\\u0099]', to_windows_1252, restore_string)"
   ]
  },
  {
   "cell_type": "code",
   "execution_count": 35,
   "metadata": {},
   "outputs": [],
   "source": [
    "# define a url\n",
    "new_html_file = r\"https://www.sec.gov/Archives/edgar/data/1166036/000110465904027382/0001104659-04-027382.txt\"\n",
    "\n",
    "# grab response\n",
    "response = requests.get(new_html_file)\n",
    "\n",
    "# parse the response\n",
    "soup = BeautifulSoup(response.content, 'lxml')"
   ]
  },
  {
   "cell_type": "code",
   "execution_count": 36,
   "metadata": {},
   "outputs": [],
   "source": [
    "# soup"
   ]
  },
  {
   "cell_type": "code",
   "execution_count": 37,
   "metadata": {},
   "outputs": [],
   "source": [
    "# define master dictionary to house all filings\n",
    "master_filings_dict = {}\n",
    "\n",
    "# define unique key for each filing\n",
    "accession_number = '0001104659-04-027382'\n",
    "\n",
    "# add key to dict and add new level\n",
    "master_filings_dict[accession_number] = {}\n",
    "\n",
    "# add next levels \n",
    "# filing documents and sec filing headers\n",
    "master_filings_dict[accession_number]['sec_header_content'] = {}\n",
    "master_filings_dict[accession_number]['filing_documents'] = None"
   ]
  },
  {
   "cell_type": "code",
   "execution_count": 38,
   "metadata": {},
   "outputs": [],
   "source": [
    "# grab sec-header document\n",
    "sec_header_tag = soup.find('sec-header')\n",
    "sec_header_tag"
   ]
  },
  {
   "cell_type": "code",
   "execution_count": 39,
   "metadata": {},
   "outputs": [
    {
     "ename": "AttributeError",
     "evalue": "'NoneType' object has no attribute 'get_text'",
     "output_type": "error",
     "traceback": [
      "\u001b[0;31m---------------------------------------------------------------------------\u001b[0m",
      "\u001b[0;31mAttributeError\u001b[0m                            Traceback (most recent call last)",
      "\u001b[0;32m<ipython-input-39-d5eaf5258a5d>\u001b[0m in \u001b[0;36m<module>\u001b[0;34m\u001b[0m\n\u001b[0;32m----> 1\u001b[0;31m \u001b[0msec_header_tag\u001b[0m\u001b[0;34m.\u001b[0m\u001b[0mget_text\u001b[0m\u001b[0;34m(\u001b[0m\u001b[0;34m)\u001b[0m\u001b[0;34m\u001b[0m\u001b[0;34m\u001b[0m\u001b[0m\n\u001b[0m",
      "\u001b[0;31mAttributeError\u001b[0m: 'NoneType' object has no attribute 'get_text'"
     ]
    }
   ],
   "source": [
    "sec_header_tag.get_text()"
   ]
  },
  {
   "cell_type": "code",
   "execution_count": 40,
   "metadata": {},
   "outputs": [],
   "source": [
    "# store sec header content inside the dict\n",
    "master_filings_dict[accession_number]['sec_header_content']['sec_header_code'] = sec_header_tag"
   ]
  },
  {
   "cell_type": "code",
   "execution_count": 41,
   "metadata": {},
   "outputs": [
    {
     "data": {
      "text/plain": [
       "{'0001104659-04-027382': {'sec_header_content': {'sec_header_code': None},\n",
       "  'filing_documents': None}}"
      ]
     },
     "execution_count": 41,
     "metadata": {},
     "output_type": "execute_result"
    }
   ],
   "source": [
    "master_filings_dict"
   ]
  },
  {
   "cell_type": "code",
   "execution_count": 42,
   "metadata": {},
   "outputs": [],
   "source": [
    "# Parse the documents\n",
    "# find all document tags and loop through results\n",
    "# init master document dict\n",
    "master_document_dict = {}\n",
    "\n",
    "for filing_document in soup.find_all('document'):\n",
    "    document_id = filing_document.type.find(text=True, recursive = False).strip()    \n",
    "#     print(document_id)\n",
    "    document_sequence = filing_document.sequence.find(text=True, recursive = False).strip()    \n",
    "    document_filename = filing_document.filename.find(text=True, recursive = False).strip()    \n",
    "    document_description = filing_document.description.find(text=True, recursive = False).strip()\n",
    "    \n",
    "    # insert key\n",
    "    master_document_dict[document_id] = {}\n",
    "    \n",
    "    # add different parts of document\n",
    "    master_document_dict[document_id]['document_sequence'] = document_sequence\n",
    "    master_document_dict[document_id]['document_filename'] = document_filename\n",
    "    master_document_dict[document_id]['document_description'] = document_description\n",
    "    \n",
    "    # add document content\n",
    "    master_document_dict[document_id]['document_code'] = filing_document.extract()\n",
    "    \n",
    "    # get all text in document\n",
    "    filing_doc_text = filing_document.find('text').extract()\n",
    "    \n",
    "    # get all thematic breaks, aka end of page lining\n",
    "    all_thematic_breaks = filing_doc_text.find_all('hr', {'width' : '100%'})\n",
    "    "
   ]
  },
  {
   "cell_type": "code",
   "execution_count": 43,
   "metadata": {},
   "outputs": [
    {
     "data": {
      "text/plain": [
       "{}"
      ]
     },
     "execution_count": 43,
     "metadata": {},
     "output_type": "execute_result"
    }
   ],
   "source": [
    "master_document_dict"
   ]
  },
  {
   "cell_type": "code",
   "execution_count": null,
   "metadata": {},
   "outputs": [],
   "source": []
  }
 ],
 "metadata": {
  "kernelspec": {
   "display_name": "Python 3",
   "language": "python",
   "name": "python3"
  },
  "language_info": {
   "codemirror_mode": {
    "name": "ipython",
    "version": 3
   },
   "file_extension": ".py",
   "mimetype": "text/x-python",
   "name": "python",
   "nbconvert_exporter": "python",
   "pygments_lexer": "ipython3",
   "version": "3.9.0"
  }
 },
 "nbformat": 4,
 "nbformat_minor": 4
}
