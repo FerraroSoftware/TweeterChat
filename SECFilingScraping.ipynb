{
 "cells": [
  {
   "cell_type": "code",
   "execution_count": 1,
   "metadata": {},
   "outputs": [],
   "source": [
    "import re\n",
    "import requests\n",
    "import unicodedata # normalize the text\n",
    "from bs4 import BeautifulSoup"
   ]
  },
  {
   "cell_type": "code",
   "execution_count": 2,
   "metadata": {},
   "outputs": [],
   "source": [
    "# The text from each page of the document will be disgusting. Lets normalize the text\n",
    "# cant rely on only unicodedata lib to help, there is also windows_1252_characters that cause issues\n",
    "# from stack overflow, we have a way to help normalize the remaining portions of data\n",
    "def restore_windows_1252_characters(restore_string):\n",
    "    # Replace c1 control chars in unicode string s by chars at \n",
    "    # corresponding code points in windows 1252 where possible\n",
    "    def to_windows_1252(match):\n",
    "        try:\n",
    "            return bytes([ord(match.group(0))]).decode('windows-1252')\n",
    "        except UnicodeDecodeError:\n",
    "            # no char at corresponding code point, remove it\n",
    "            return ''\n",
    "    return re.sub(r'[\\u0080-\\u0099]', to_windows_1252, restore_string)"
   ]
  },
  {
   "cell_type": "code",
   "execution_count": 3,
   "metadata": {},
   "outputs": [],
   "source": [
    "# define a url\n",
    "new_html_file = r\"https://www.sec.gov/Archives/edgar/data/1166036/000110465904027382/0001104659-04-027382.txt\"\n",
    "\n",
    "# grab response\n",
    "response = requests.get(new_html_file)\n",
    "\n",
    "# parse the response\n",
    "soup = BeautifulSoup(response.content, 'lxml')"
   ]
  },
  {
   "cell_type": "code",
   "execution_count": 4,
   "metadata": {},
   "outputs": [],
   "source": [
    "# soup"
   ]
  },
  {
   "cell_type": "code",
   "execution_count": 5,
   "metadata": {},
   "outputs": [],
   "source": [
    "# define master dictionary to house all filings\n",
    "master_filings_dict = {}\n",
    "\n",
    "# define unique key for each filing\n",
    "accession_number = '0001104659-04-027382'\n",
    "\n",
    "# add key to dict and add new level\n",
    "master_filings_dict[accession_number] = {}\n",
    "\n",
    "# add next levels \n",
    "# filing documents and sec filing headers\n",
    "master_filings_dict[accession_number]['sec_header_content'] = {}\n",
    "master_filings_dict[accession_number]['filing_documents'] = None"
   ]
  },
  {
   "cell_type": "code",
   "execution_count": 6,
   "metadata": {},
   "outputs": [
    {
     "data": {
      "text/plain": [
       "<sec-header>0001104659-04-027382.hdr.sgml : 20040913\n",
       "<acceptance-datetime>20040913074905\n",
       "ACCESSION NUMBER:\t\t0001104659-04-027382\n",
       "CONFORMED SUBMISSION TYPE:\t8-K/A\n",
       "PUBLIC DOCUMENT COUNT:\t\t7\n",
       "CONFORMED PERIOD OF REPORT:\t20040730\n",
       "ITEM INFORMATION:\t\tCompletion of Acquisition or Disposition of Assets\n",
       "ITEM INFORMATION:\t\tFinancial Statements and Exhibits\n",
       "FILED AS OF DATE:\t\t20040913\n",
       "DATE AS OF CHANGE:\t\t20040913\n",
       "\n",
       "FILER:\n",
       "\n",
       "\tCOMPANY DATA:\t\n",
       "\t\tCOMPANY CONFORMED NAME:\t\t\tMARKWEST ENERGY PARTNERS L P\n",
       "\t\tCENTRAL INDEX KEY:\t\t\t0001166036\n",
       "\t\tSTANDARD INDUSTRIAL CLASSIFICATION:\tCRUDE PETROLEUM &amp; NATURAL GAS [1311]\n",
       "\t\tIRS NUMBER:\t\t\t\t270005456\n",
       "\t\tFISCAL YEAR END:\t\t\t1231\n",
       "\n",
       "\tFILING VALUES:\n",
       "\t\tFORM TYPE:\t\t8-K/A\n",
       "\t\tSEC ACT:\t\t1934 Act\n",
       "\t\tSEC FILE NUMBER:\t001-31239\n",
       "\t\tFILM NUMBER:\t\t041026639\n",
       "\n",
       "\tBUSINESS ADDRESS:\t\n",
       "\t\tSTREET 1:\t\t155 INVERNESS DR WEST\n",
       "\t\tSTREET 2:\t\tSTE 200\n",
       "\t\tCITY:\t\t\tENGLEWOOD\n",
       "\t\tSTATE:\t\t\tCO\n",
       "\t\tZIP:\t\t\t80112\n",
       "\t\tBUSINESS PHONE:\t\t303-925-9275\n",
       "\n",
       "\tMAIL ADDRESS:\t\n",
       "\t\tSTREET 1:\t\t155 INVERNESS DR WEST\n",
       "\t\tSTREET 2:\t\tSTE 200\n",
       "\t\tCITY:\t\t\tENGLEWOOD\n",
       "\t\tSTATE:\t\t\tCO\n",
       "\t\tZIP:\t\t\t80112\n",
       "</acceptance-datetime></sec-header>"
      ]
     },
     "execution_count": 6,
     "metadata": {},
     "output_type": "execute_result"
    }
   ],
   "source": [
    "# grab sec-header document\n",
    "sec_header_tag = soup.find('sec-header')\n",
    "sec_header_tag"
   ]
  },
  {
   "cell_type": "code",
   "execution_count": 7,
   "metadata": {},
   "outputs": [
    {
     "data": {
      "text/plain": [
       "'0001104659-04-027382.hdr.sgml : 20040913\\n20040913074905\\nACCESSION NUMBER:\\t\\t0001104659-04-027382\\nCONFORMED SUBMISSION TYPE:\\t8-K/A\\nPUBLIC DOCUMENT COUNT:\\t\\t7\\nCONFORMED PERIOD OF REPORT:\\t20040730\\nITEM INFORMATION:\\t\\tCompletion of Acquisition or Disposition of Assets\\nITEM INFORMATION:\\t\\tFinancial Statements and Exhibits\\nFILED AS OF DATE:\\t\\t20040913\\nDATE AS OF CHANGE:\\t\\t20040913\\n\\nFILER:\\n\\n\\tCOMPANY DATA:\\t\\n\\t\\tCOMPANY CONFORMED NAME:\\t\\t\\tMARKWEST ENERGY PARTNERS L P\\n\\t\\tCENTRAL INDEX KEY:\\t\\t\\t0001166036\\n\\t\\tSTANDARD INDUSTRIAL CLASSIFICATION:\\tCRUDE PETROLEUM & NATURAL GAS [1311]\\n\\t\\tIRS NUMBER:\\t\\t\\t\\t270005456\\n\\t\\tFISCAL YEAR END:\\t\\t\\t1231\\n\\n\\tFILING VALUES:\\n\\t\\tFORM TYPE:\\t\\t8-K/A\\n\\t\\tSEC ACT:\\t\\t1934 Act\\n\\t\\tSEC FILE NUMBER:\\t001-31239\\n\\t\\tFILM NUMBER:\\t\\t041026639\\n\\n\\tBUSINESS ADDRESS:\\t\\n\\t\\tSTREET 1:\\t\\t155 INVERNESS DR WEST\\n\\t\\tSTREET 2:\\t\\tSTE 200\\n\\t\\tCITY:\\t\\t\\tENGLEWOOD\\n\\t\\tSTATE:\\t\\t\\tCO\\n\\t\\tZIP:\\t\\t\\t80112\\n\\t\\tBUSINESS PHONE:\\t\\t303-925-9275\\n\\n\\tMAIL ADDRESS:\\t\\n\\t\\tSTREET 1:\\t\\t155 INVERNESS DR WEST\\n\\t\\tSTREET 2:\\t\\tSTE 200\\n\\t\\tCITY:\\t\\t\\tENGLEWOOD\\n\\t\\tSTATE:\\t\\t\\tCO\\n\\t\\tZIP:\\t\\t\\t80112\\n'"
      ]
     },
     "execution_count": 7,
     "metadata": {},
     "output_type": "execute_result"
    }
   ],
   "source": [
    "sec_header_tag.get_text()"
   ]
  },
  {
   "cell_type": "code",
   "execution_count": 8,
   "metadata": {},
   "outputs": [],
   "source": [
    "# store sec header content inside the dict\n",
    "master_filings_dict[accession_number]['sec_header_content']['sec_header_code'] = sec_header_tag"
   ]
  },
  {
   "cell_type": "code",
   "execution_count": 9,
   "metadata": {},
   "outputs": [
    {
     "data": {
      "text/plain": [
       "{'0001104659-04-027382': {'sec_header_content': {'sec_header_code': <sec-header>0001104659-04-027382.hdr.sgml : 20040913\n",
       "   <acceptance-datetime>20040913074905\n",
       "   ACCESSION NUMBER:\t\t0001104659-04-027382\n",
       "   CONFORMED SUBMISSION TYPE:\t8-K/A\n",
       "   PUBLIC DOCUMENT COUNT:\t\t7\n",
       "   CONFORMED PERIOD OF REPORT:\t20040730\n",
       "   ITEM INFORMATION:\t\tCompletion of Acquisition or Disposition of Assets\n",
       "   ITEM INFORMATION:\t\tFinancial Statements and Exhibits\n",
       "   FILED AS OF DATE:\t\t20040913\n",
       "   DATE AS OF CHANGE:\t\t20040913\n",
       "   \n",
       "   FILER:\n",
       "   \n",
       "   \tCOMPANY DATA:\t\n",
       "   \t\tCOMPANY CONFORMED NAME:\t\t\tMARKWEST ENERGY PARTNERS L P\n",
       "   \t\tCENTRAL INDEX KEY:\t\t\t0001166036\n",
       "   \t\tSTANDARD INDUSTRIAL CLASSIFICATION:\tCRUDE PETROLEUM &amp; NATURAL GAS [1311]\n",
       "   \t\tIRS NUMBER:\t\t\t\t270005456\n",
       "   \t\tFISCAL YEAR END:\t\t\t1231\n",
       "   \n",
       "   \tFILING VALUES:\n",
       "   \t\tFORM TYPE:\t\t8-K/A\n",
       "   \t\tSEC ACT:\t\t1934 Act\n",
       "   \t\tSEC FILE NUMBER:\t001-31239\n",
       "   \t\tFILM NUMBER:\t\t041026639\n",
       "   \n",
       "   \tBUSINESS ADDRESS:\t\n",
       "   \t\tSTREET 1:\t\t155 INVERNESS DR WEST\n",
       "   \t\tSTREET 2:\t\tSTE 200\n",
       "   \t\tCITY:\t\t\tENGLEWOOD\n",
       "   \t\tSTATE:\t\t\tCO\n",
       "   \t\tZIP:\t\t\t80112\n",
       "   \t\tBUSINESS PHONE:\t\t303-925-9275\n",
       "   \n",
       "   \tMAIL ADDRESS:\t\n",
       "   \t\tSTREET 1:\t\t155 INVERNESS DR WEST\n",
       "   \t\tSTREET 2:\t\tSTE 200\n",
       "   \t\tCITY:\t\t\tENGLEWOOD\n",
       "   \t\tSTATE:\t\t\tCO\n",
       "   \t\tZIP:\t\t\t80112\n",
       "   </acceptance-datetime></sec-header>},\n",
       "  'filing_documents': None}}"
      ]
     },
     "execution_count": 9,
     "metadata": {},
     "output_type": "execute_result"
    }
   ],
   "source": [
    "master_filings_dict"
   ]
  },
  {
   "cell_type": "code",
   "execution_count": 10,
   "metadata": {},
   "outputs": [],
   "source": [
    "# Parse the documents\n",
    "# find all document tags and loop through results\n",
    "# init master document dict\n",
    "master_document_dict = {}\n",
    "\n",
    "for filing_document in soup.find_all('document'):\n",
    "    document_id = filing_document.type.find(text=True, recursive = False).strip()    \n",
    "#     print(document_id)\n",
    "    document_sequence = filing_document.sequence.find(text=True, recursive = False).strip()    \n",
    "    document_filename = filing_document.filename.find(text=True, recursive = False).strip()    \n",
    "    document_description = filing_document.description.find(text=True, recursive = False).strip()\n",
    "    \n",
    "    # insert key\n",
    "    master_document_dict[document_id] = {}\n",
    "    \n",
    "    # add different parts of document\n",
    "    master_document_dict[document_id]['document_sequence'] = document_sequence\n",
    "    master_document_dict[document_id]['document_filename'] = document_filename\n",
    "    master_document_dict[document_id]['document_description'] = document_description\n",
    "    \n",
    "    # add document content\n",
    "    master_document_dict[document_id]['document_code'] = filing_document.extract()\n",
    "    \n",
    "    # get all text in document\n",
    "    filing_doc_text = filing_document.find('text').extract()\n",
    "    \n",
    "    # get all thematic breaks, aka end of page lining\n",
    "    all_thematic_breaks = filing_doc_text.find_all('hr', {'width' : '100%'})\n",
    "    "
   ]
  },
  {
   "cell_type": "code",
   "execution_count": 11,
   "metadata": {},
   "outputs": [
    {
     "data": {
      "text/plain": [
       "{'8-K/A': {'document_sequence': '1',\n",
       "  'document_filename': 'a04-10341_18ka.htm',\n",
       "  'document_description': '8-K/A',\n",
       "  'document_code': <document>\n",
       "  <type>8-K/A\n",
       "  <sequence>1\n",
       "  <filename>a04-10341_18ka.htm\n",
       "  <description>8-K/A\n",
       "  \n",
       "  </description></filename></sequence></type></document>},\n",
       " 'EX-2.1': {'document_sequence': '2',\n",
       "  'document_filename': 'a04-10341_1ex2d1.htm',\n",
       "  'document_description': 'EX-2.1',\n",
       "  'document_code': <document>\n",
       "  <type>EX-2.1\n",
       "  <sequence>2\n",
       "  <filename>a04-10341_1ex2d1.htm\n",
       "  <description>EX-2.1\n",
       "  \n",
       "  </description></filename></sequence></type></document>},\n",
       " 'EX-4.1': {'document_sequence': '3',\n",
       "  'document_filename': 'a04-10341_1ex4d1.htm',\n",
       "  'document_description': 'EX-4.1',\n",
       "  'document_code': <document>\n",
       "  <type>EX-4.1\n",
       "  <sequence>3\n",
       "  <filename>a04-10341_1ex4d1.htm\n",
       "  <description>EX-4.1\n",
       "  \n",
       "  </description></filename></sequence></type></document>},\n",
       " 'EX-4.2': {'document_sequence': '4',\n",
       "  'document_filename': 'a04-10341_1ex4d2.htm',\n",
       "  'document_description': 'EX-4.2',\n",
       "  'document_code': <document>\n",
       "  <type>EX-4.2\n",
       "  <sequence>4\n",
       "  <filename>a04-10341_1ex4d2.htm\n",
       "  <description>EX-4.2\n",
       "  \n",
       "  </description></filename></sequence></type></document>},\n",
       " 'EX-23.1': {'document_sequence': '5',\n",
       "  'document_filename': 'a04-10341_1ex23d1.htm',\n",
       "  'document_description': 'EX-23.1',\n",
       "  'document_code': <document>\n",
       "  <type>EX-23.1\n",
       "  <sequence>5\n",
       "  <filename>a04-10341_1ex23d1.htm\n",
       "  <description>EX-23.1\n",
       "  \n",
       "  </description></filename></sequence></type></document>},\n",
       " 'EX-99.1': {'document_sequence': '6',\n",
       "  'document_filename': 'a04-10341_1ex99d1.htm',\n",
       "  'document_description': 'EX-99.1',\n",
       "  'document_code': <document>\n",
       "  <type>EX-99.1\n",
       "  <sequence>6\n",
       "  <filename>a04-10341_1ex99d1.htm\n",
       "  <description>EX-99.1\n",
       "  \n",
       "  </description></filename></sequence></type></document>},\n",
       " 'EX-99.2': {'document_sequence': '7',\n",
       "  'document_filename': 'a04-10341_1ex99d2.htm',\n",
       "  'document_description': 'EX-99.2',\n",
       "  'document_code': <document>\n",
       "  <type>EX-99.2\n",
       "  <sequence>7\n",
       "  <filename>a04-10341_1ex99d2.htm\n",
       "  <description>EX-99.2\n",
       "  \n",
       "  </description></filename></sequence></type></document>}}"
      ]
     },
     "execution_count": 11,
     "metadata": {},
     "output_type": "execute_result"
    }
   ],
   "source": [
    "master_document_dict"
   ]
  },
  {
   "cell_type": "code",
   "execution_count": null,
   "metadata": {},
   "outputs": [],
   "source": []
  }
 ],
 "metadata": {
  "kernelspec": {
   "display_name": "Python 3",
   "language": "python",
   "name": "python3"
  },
  "language_info": {
   "codemirror_mode": {
    "name": "ipython",
    "version": 3
   },
   "file_extension": ".py",
   "mimetype": "text/x-python",
   "name": "python",
   "nbconvert_exporter": "python",
   "pygments_lexer": "ipython3",
   "version": "3.9.0"
  }
 },
 "nbformat": 4,
 "nbformat_minor": 4
}
